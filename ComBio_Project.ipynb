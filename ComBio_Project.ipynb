{
  "nbformat": 4,
  "nbformat_minor": 0,
  "metadata": {
    "colab": {
      "provenance": [],
      "include_colab_link": true
    },
    "kernelspec": {
      "name": "python3",
      "display_name": "Python 3"
    },
    "language_info": {
      "name": "python"
    }
  },
  "cells": [
    {
      "cell_type": "markdown",
      "metadata": {
        "id": "view-in-github",
        "colab_type": "text"
      },
      "source": [
        "<a href=\"https://colab.research.google.com/github/NelsenTimoty/com_bio/blob/main/ComBio_Project.ipynb\" target=\"_parent\"><img src=\"https://colab.research.google.com/assets/colab-badge.svg\" alt=\"Open In Colab\"/></a>"
      ]
    },
    {
      "cell_type": "code",
      "source": [
        "%pip install biopython"
      ],
      "metadata": {
        "colab": {
          "base_uri": "https://localhost:8080/"
        },
        "id": "Pn7g95vxPYN_",
        "outputId": "f81d5d98-7572-42d5-f0dd-2a1811d90c01"
      },
      "execution_count": null,
      "outputs": [
        {
          "output_type": "stream",
          "name": "stdout",
          "text": [
            "Requirement already satisfied: biopython in /usr/local/lib/python3.10/dist-packages (1.83)\n",
            "Requirement already satisfied: numpy in /usr/local/lib/python3.10/dist-packages (from biopython) (1.25.2)\n"
          ]
        }
      ]
    },
    {
      "cell_type": "code",
      "source": [
        "%pip install catboost"
      ],
      "metadata": {
        "id": "beDj4BSTiMZH",
        "colab": {
          "base_uri": "https://localhost:8080/"
        },
        "outputId": "07aa9c8d-e906-49e9-cf2b-2df24c44b474"
      },
      "execution_count": null,
      "outputs": [
        {
          "output_type": "stream",
          "name": "stdout",
          "text": [
            "Requirement already satisfied: catboost in /usr/local/lib/python3.10/dist-packages (1.2.5)\n",
            "Requirement already satisfied: graphviz in /usr/local/lib/python3.10/dist-packages (from catboost) (0.20.3)\n",
            "Requirement already satisfied: matplotlib in /usr/local/lib/python3.10/dist-packages (from catboost) (3.7.1)\n",
            "Requirement already satisfied: numpy>=1.16.0 in /usr/local/lib/python3.10/dist-packages (from catboost) (1.25.2)\n",
            "Requirement already satisfied: pandas>=0.24 in /usr/local/lib/python3.10/dist-packages (from catboost) (2.0.3)\n",
            "Requirement already satisfied: scipy in /usr/local/lib/python3.10/dist-packages (from catboost) (1.11.4)\n",
            "Requirement already satisfied: plotly in /usr/local/lib/python3.10/dist-packages (from catboost) (5.15.0)\n",
            "Requirement already satisfied: six in /usr/local/lib/python3.10/dist-packages (from catboost) (1.16.0)\n",
            "Requirement already satisfied: python-dateutil>=2.8.2 in /usr/local/lib/python3.10/dist-packages (from pandas>=0.24->catboost) (2.8.2)\n",
            "Requirement already satisfied: pytz>=2020.1 in /usr/local/lib/python3.10/dist-packages (from pandas>=0.24->catboost) (2023.4)\n",
            "Requirement already satisfied: tzdata>=2022.1 in /usr/local/lib/python3.10/dist-packages (from pandas>=0.24->catboost) (2024.1)\n",
            "Requirement already satisfied: contourpy>=1.0.1 in /usr/local/lib/python3.10/dist-packages (from matplotlib->catboost) (1.2.1)\n",
            "Requirement already satisfied: cycler>=0.10 in /usr/local/lib/python3.10/dist-packages (from matplotlib->catboost) (0.12.1)\n",
            "Requirement already satisfied: fonttools>=4.22.0 in /usr/local/lib/python3.10/dist-packages (from matplotlib->catboost) (4.53.0)\n",
            "Requirement already satisfied: kiwisolver>=1.0.1 in /usr/local/lib/python3.10/dist-packages (from matplotlib->catboost) (1.4.5)\n",
            "Requirement already satisfied: packaging>=20.0 in /usr/local/lib/python3.10/dist-packages (from matplotlib->catboost) (24.1)\n",
            "Requirement already satisfied: pillow>=6.2.0 in /usr/local/lib/python3.10/dist-packages (from matplotlib->catboost) (9.4.0)\n",
            "Requirement already satisfied: pyparsing>=2.3.1 in /usr/local/lib/python3.10/dist-packages (from matplotlib->catboost) (3.1.2)\n",
            "Requirement already satisfied: tenacity>=6.2.0 in /usr/local/lib/python3.10/dist-packages (from plotly->catboost) (8.3.0)\n"
          ]
        }
      ]
    },
    {
      "cell_type": "code",
      "execution_count": null,
      "metadata": {
        "id": "ml6UzM-NO0-3"
      },
      "outputs": [],
      "source": [
        "import os\n",
        "import pandas as pd\n",
        "import numpy as np\n",
        "import matplotlib.pyplot as plt\n",
        "import seaborn as sns; sns.set(style='whitegrid')\n",
        "import time\n",
        "import plotly.express as px\n",
        "import plotly.graph_objects as go\n",
        "from matplotlib import cm\n",
        "from tqdm import tqdm\n",
        "from Bio.Seq import Seq\n",
        "from sklearn.model_selection import KFold,GroupKFold,GridSearchCV,StratifiedKFold\n",
        "from sklearn.metrics import confusion_matrix,balanced_accuracy_score\n",
        "from sklearn.preprocessing import StandardScaler, MinMaxScaler, Normalizer,RobustScaler\n",
        "from sklearn.model_selection import train_test_split, KFold, cross_val_score, GridSearchCV\n",
        "from sklearn.model_selection import learning_curve,ShuffleSplit\n",
        "from sklearn.feature_selection import SelectKBest,f_regression\n",
        "from sklearn.pipeline import Pipeline\n",
        "from sklearn.metrics import classification_report, confusion_matrix, accuracy_score\n",
        "from sklearn import preprocessing\n",
        "from sklearn.svm import SVC\n",
        "from imblearn.over_sampling import SMOTE, SMOTENC, SMOTEN\n",
        "from sklearn.linear_model import LogisticRegression,SGDClassifier\n",
        "from sklearn.tree import DecisionTreeClassifier\n",
        "from sklearn.neighbors import KNeighborsClassifier\n",
        "from sklearn.discriminant_analysis import LinearDiscriminantAnalysis\n",
        "from sklearn.naive_bayes import GaussianNB\n",
        "from sklearn.svm import SVC\n",
        "from sklearn.neural_network import MLPClassifier\n",
        "from catboost import CatBoostClassifier,CatBoostRegressor\n",
        "from xgboost import XGBRegressor,XGBClassifier\n",
        "from sklearn.ensemble import RandomForestClassifier,RandomForestRegressor\n",
        "from sklearn.ensemble import AdaBoostClassifier, GradientBoostingClassifier, ExtraTreesClassifier\n",
        "import os,warnings;warnings.filterwarnings(\"ignore\")"
      ]
    },
    {
      "cell_type": "code",
      "source": [
        "class get_unitigs:\n",
        "\n",
        "    def __init__(self,verbose=True):\n",
        "        self.df = pd.read_csv('metadata.csv', index_col=0) # metadata\n",
        "        self.meta_names = self.df.columns\n",
        "        self.target_name = None\n",
        "        self.verbose = verbose\n",
        "\n",
        "    # Get Unitig Feature matrix & Target Vector\n",
        "    def get_case(self,phenotype=None):\n",
        "\n",
        "        self.target_name = phenotype\n",
        "        _metadata = self.df\n",
        "        if(self.verbose):\n",
        "            print(f'Target Antibiotic: {self.target_name}')\n",
        "            print(f'Metadata df: {_metadata.shape}')\n",
        "\n",
        "        # remove those that don't contain target values\n",
        "        _metadata = _metadata.dropna(subset=[phenotype])\n",
        "        self.metadata = _metadata.copy()\n",
        "\n",
        "        if(self.verbose):\n",
        "            print(f'Metadata df after na() removal {_metadata.shape}')\n",
        "        _metadata = _metadata[phenotype] # choose target variable\n",
        "\n",
        "        prefix = ''\n",
        "        suffix = '_gwas_filtered_unitigs.Rtab'\n",
        "\n",
        "        if(self.verbose):\n",
        "            print('\\nCombining Metadata & Unitigs')\n",
        "\n",
        "        # unitig feature matrix for phenotype\n",
        "        tdf = pd.read_csv(prefix + phenotype + suffix, sep=\" \",\n",
        "                          index_col=0, low_memory=False)\n",
        "        # align column data w/ metadata df (pattern_id = sample_idd)\n",
        "        tdf = tdf.T\n",
        "        # keep only common rows, ie. that have resistence measure]\n",
        "        tdf = tdf[tdf.index.isin(_metadata.index)]\n",
        "\n",
        "        train = tdf\n",
        "        target = _metadata[_metadata.index.isin(tdf.index)]\n",
        "\n",
        "        self.X = pd.concat([train,target],axis=1)\n",
        "        if(self.verbose):\n",
        "            print(f'Unitig Matrix (+target): {self.X.shape}')"
      ],
      "metadata": {
        "id": "tJ1Yl7TJO6el"
      },
      "execution_count": null,
      "outputs": []
    },
    {
      "cell_type": "code",
      "source": [
        "case_cip = get_unitigs()\n",
        "display(case_cip.df.T.iloc[:,:7])"
      ],
      "metadata": {
        "colab": {
          "base_uri": "https://localhost:8080/",
          "height": 990
        },
        "id": "5TCcBRmSQUL7",
        "outputId": "38d00072-3c68-452e-8cd2-27eb66b62238"
      },
      "execution_count": null,
      "outputs": [
        {
          "output_type": "display_data",
          "data": {
            "text/plain": [
              "Sample_ID      ERR1549286 ERR1549290 ERR1549291 ERR1549287 ERR1549288  \\\n",
              "Year               2015.0     2015.0     2015.0     2015.0     2015.0   \n",
              "Country                UK         UK         UK         UK         UK   \n",
              "Continent          Europe     Europe     Europe     Europe     Europe   \n",
              "Beta.lactamase        NaN        NaN        NaN        NaN        NaN   \n",
              "Azithromycin         >256       >256       >256       >256       >256   \n",
              "Ciprofloxacin         NaN        NaN        NaN        NaN        NaN   \n",
              "Ceftriaxone         0.016      0.004      0.006      0.006      0.008   \n",
              "Cefixime              NaN        NaN        NaN        NaN        NaN   \n",
              "Tetracycline          NaN        NaN        NaN        NaN        NaN   \n",
              "Penicillin            NaN        NaN        NaN        NaN        NaN   \n",
              "NG_MAST              9768       9768       9768       9768       9768   \n",
              "Group                1058       1058       1058       1058       1058   \n",
              "azm_mic             512.0      512.0      512.0      512.0      512.0   \n",
              "cip_mic               NaN        NaN        NaN        NaN        NaN   \n",
              "cro_mic             0.016      0.004      0.006      0.006      0.008   \n",
              "cfx_mic               NaN        NaN        NaN        NaN        NaN   \n",
              "tet_mic               NaN        NaN        NaN        NaN        NaN   \n",
              "pen_mic               NaN        NaN        NaN        NaN        NaN   \n",
              "log2_azm_mic          9.0        9.0        9.0        9.0        9.0   \n",
              "log2_cip_mic          NaN        NaN        NaN        NaN        NaN   \n",
              "log2_cro_mic    -5.965784  -7.965784  -7.380822  -7.380822  -6.965784   \n",
              "log2_cfx_mic          NaN        NaN        NaN        NaN        NaN   \n",
              "log2_tet_mic          NaN        NaN        NaN        NaN        NaN   \n",
              "log2_pen_mic          NaN        NaN        NaN        NaN        NaN   \n",
              "azm_sr                1.0        1.0        1.0        1.0        1.0   \n",
              "cip_sr                NaN        NaN        NaN        NaN        NaN   \n",
              "cro_sr                0.0        0.0        0.0        0.0        0.0   \n",
              "cfx_sr                NaN        NaN        NaN        NaN        NaN   \n",
              "tet_sr                NaN        NaN        NaN        NaN        NaN   \n",
              "pen_sr                NaN        NaN        NaN        NaN        NaN   \n",
              "\n",
              "Sample_ID      ERR1549299 ERR1549292  \n",
              "Year               2015.0     2015.0  \n",
              "Country                UK         UK  \n",
              "Continent          Europe     Europe  \n",
              "Beta.lactamase        NaN        NaN  \n",
              "Azithromycin         >256       >256  \n",
              "Ciprofloxacin         NaN        NaN  \n",
              "Ceftriaxone         0.012      0.023  \n",
              "Cefixime              NaN        NaN  \n",
              "Tetracycline          NaN        NaN  \n",
              "Penicillin            NaN        NaN  \n",
              "NG_MAST               NaN       9768  \n",
              "Group                   0       1058  \n",
              "azm_mic             512.0      512.0  \n",
              "cip_mic               NaN        NaN  \n",
              "cro_mic             0.012      0.023  \n",
              "cfx_mic               NaN        NaN  \n",
              "tet_mic               NaN        NaN  \n",
              "pen_mic               NaN        NaN  \n",
              "log2_azm_mic          9.0        9.0  \n",
              "log2_cip_mic          NaN        NaN  \n",
              "log2_cro_mic    -6.380822  -5.442222  \n",
              "log2_cfx_mic          NaN        NaN  \n",
              "log2_tet_mic          NaN        NaN  \n",
              "log2_pen_mic          NaN        NaN  \n",
              "azm_sr                1.0        1.0  \n",
              "cip_sr                NaN        NaN  \n",
              "cro_sr                0.0        0.0  \n",
              "cfx_sr                NaN        NaN  \n",
              "tet_sr                NaN        NaN  \n",
              "pen_sr                NaN        NaN  "
            ],
            "text/html": [
              "\n",
              "  <div id=\"df-b0098350-42d4-435d-9f31-7cd54c1fef04\" class=\"colab-df-container\">\n",
              "    <div>\n",
              "<style scoped>\n",
              "    .dataframe tbody tr th:only-of-type {\n",
              "        vertical-align: middle;\n",
              "    }\n",
              "\n",
              "    .dataframe tbody tr th {\n",
              "        vertical-align: top;\n",
              "    }\n",
              "\n",
              "    .dataframe thead th {\n",
              "        text-align: right;\n",
              "    }\n",
              "</style>\n",
              "<table border=\"1\" class=\"dataframe\">\n",
              "  <thead>\n",
              "    <tr style=\"text-align: right;\">\n",
              "      <th>Sample_ID</th>\n",
              "      <th>ERR1549286</th>\n",
              "      <th>ERR1549290</th>\n",
              "      <th>ERR1549291</th>\n",
              "      <th>ERR1549287</th>\n",
              "      <th>ERR1549288</th>\n",
              "      <th>ERR1549299</th>\n",
              "      <th>ERR1549292</th>\n",
              "    </tr>\n",
              "  </thead>\n",
              "  <tbody>\n",
              "    <tr>\n",
              "      <th>Year</th>\n",
              "      <td>2015.0</td>\n",
              "      <td>2015.0</td>\n",
              "      <td>2015.0</td>\n",
              "      <td>2015.0</td>\n",
              "      <td>2015.0</td>\n",
              "      <td>2015.0</td>\n",
              "      <td>2015.0</td>\n",
              "    </tr>\n",
              "    <tr>\n",
              "      <th>Country</th>\n",
              "      <td>UK</td>\n",
              "      <td>UK</td>\n",
              "      <td>UK</td>\n",
              "      <td>UK</td>\n",
              "      <td>UK</td>\n",
              "      <td>UK</td>\n",
              "      <td>UK</td>\n",
              "    </tr>\n",
              "    <tr>\n",
              "      <th>Continent</th>\n",
              "      <td>Europe</td>\n",
              "      <td>Europe</td>\n",
              "      <td>Europe</td>\n",
              "      <td>Europe</td>\n",
              "      <td>Europe</td>\n",
              "      <td>Europe</td>\n",
              "      <td>Europe</td>\n",
              "    </tr>\n",
              "    <tr>\n",
              "      <th>Beta.lactamase</th>\n",
              "      <td>NaN</td>\n",
              "      <td>NaN</td>\n",
              "      <td>NaN</td>\n",
              "      <td>NaN</td>\n",
              "      <td>NaN</td>\n",
              "      <td>NaN</td>\n",
              "      <td>NaN</td>\n",
              "    </tr>\n",
              "    <tr>\n",
              "      <th>Azithromycin</th>\n",
              "      <td>&gt;256</td>\n",
              "      <td>&gt;256</td>\n",
              "      <td>&gt;256</td>\n",
              "      <td>&gt;256</td>\n",
              "      <td>&gt;256</td>\n",
              "      <td>&gt;256</td>\n",
              "      <td>&gt;256</td>\n",
              "    </tr>\n",
              "    <tr>\n",
              "      <th>Ciprofloxacin</th>\n",
              "      <td>NaN</td>\n",
              "      <td>NaN</td>\n",
              "      <td>NaN</td>\n",
              "      <td>NaN</td>\n",
              "      <td>NaN</td>\n",
              "      <td>NaN</td>\n",
              "      <td>NaN</td>\n",
              "    </tr>\n",
              "    <tr>\n",
              "      <th>Ceftriaxone</th>\n",
              "      <td>0.016</td>\n",
              "      <td>0.004</td>\n",
              "      <td>0.006</td>\n",
              "      <td>0.006</td>\n",
              "      <td>0.008</td>\n",
              "      <td>0.012</td>\n",
              "      <td>0.023</td>\n",
              "    </tr>\n",
              "    <tr>\n",
              "      <th>Cefixime</th>\n",
              "      <td>NaN</td>\n",
              "      <td>NaN</td>\n",
              "      <td>NaN</td>\n",
              "      <td>NaN</td>\n",
              "      <td>NaN</td>\n",
              "      <td>NaN</td>\n",
              "      <td>NaN</td>\n",
              "    </tr>\n",
              "    <tr>\n",
              "      <th>Tetracycline</th>\n",
              "      <td>NaN</td>\n",
              "      <td>NaN</td>\n",
              "      <td>NaN</td>\n",
              "      <td>NaN</td>\n",
              "      <td>NaN</td>\n",
              "      <td>NaN</td>\n",
              "      <td>NaN</td>\n",
              "    </tr>\n",
              "    <tr>\n",
              "      <th>Penicillin</th>\n",
              "      <td>NaN</td>\n",
              "      <td>NaN</td>\n",
              "      <td>NaN</td>\n",
              "      <td>NaN</td>\n",
              "      <td>NaN</td>\n",
              "      <td>NaN</td>\n",
              "      <td>NaN</td>\n",
              "    </tr>\n",
              "    <tr>\n",
              "      <th>NG_MAST</th>\n",
              "      <td>9768</td>\n",
              "      <td>9768</td>\n",
              "      <td>9768</td>\n",
              "      <td>9768</td>\n",
              "      <td>9768</td>\n",
              "      <td>NaN</td>\n",
              "      <td>9768</td>\n",
              "    </tr>\n",
              "    <tr>\n",
              "      <th>Group</th>\n",
              "      <td>1058</td>\n",
              "      <td>1058</td>\n",
              "      <td>1058</td>\n",
              "      <td>1058</td>\n",
              "      <td>1058</td>\n",
              "      <td>0</td>\n",
              "      <td>1058</td>\n",
              "    </tr>\n",
              "    <tr>\n",
              "      <th>azm_mic</th>\n",
              "      <td>512.0</td>\n",
              "      <td>512.0</td>\n",
              "      <td>512.0</td>\n",
              "      <td>512.0</td>\n",
              "      <td>512.0</td>\n",
              "      <td>512.0</td>\n",
              "      <td>512.0</td>\n",
              "    </tr>\n",
              "    <tr>\n",
              "      <th>cip_mic</th>\n",
              "      <td>NaN</td>\n",
              "      <td>NaN</td>\n",
              "      <td>NaN</td>\n",
              "      <td>NaN</td>\n",
              "      <td>NaN</td>\n",
              "      <td>NaN</td>\n",
              "      <td>NaN</td>\n",
              "    </tr>\n",
              "    <tr>\n",
              "      <th>cro_mic</th>\n",
              "      <td>0.016</td>\n",
              "      <td>0.004</td>\n",
              "      <td>0.006</td>\n",
              "      <td>0.006</td>\n",
              "      <td>0.008</td>\n",
              "      <td>0.012</td>\n",
              "      <td>0.023</td>\n",
              "    </tr>\n",
              "    <tr>\n",
              "      <th>cfx_mic</th>\n",
              "      <td>NaN</td>\n",
              "      <td>NaN</td>\n",
              "      <td>NaN</td>\n",
              "      <td>NaN</td>\n",
              "      <td>NaN</td>\n",
              "      <td>NaN</td>\n",
              "      <td>NaN</td>\n",
              "    </tr>\n",
              "    <tr>\n",
              "      <th>tet_mic</th>\n",
              "      <td>NaN</td>\n",
              "      <td>NaN</td>\n",
              "      <td>NaN</td>\n",
              "      <td>NaN</td>\n",
              "      <td>NaN</td>\n",
              "      <td>NaN</td>\n",
              "      <td>NaN</td>\n",
              "    </tr>\n",
              "    <tr>\n",
              "      <th>pen_mic</th>\n",
              "      <td>NaN</td>\n",
              "      <td>NaN</td>\n",
              "      <td>NaN</td>\n",
              "      <td>NaN</td>\n",
              "      <td>NaN</td>\n",
              "      <td>NaN</td>\n",
              "      <td>NaN</td>\n",
              "    </tr>\n",
              "    <tr>\n",
              "      <th>log2_azm_mic</th>\n",
              "      <td>9.0</td>\n",
              "      <td>9.0</td>\n",
              "      <td>9.0</td>\n",
              "      <td>9.0</td>\n",
              "      <td>9.0</td>\n",
              "      <td>9.0</td>\n",
              "      <td>9.0</td>\n",
              "    </tr>\n",
              "    <tr>\n",
              "      <th>log2_cip_mic</th>\n",
              "      <td>NaN</td>\n",
              "      <td>NaN</td>\n",
              "      <td>NaN</td>\n",
              "      <td>NaN</td>\n",
              "      <td>NaN</td>\n",
              "      <td>NaN</td>\n",
              "      <td>NaN</td>\n",
              "    </tr>\n",
              "    <tr>\n",
              "      <th>log2_cro_mic</th>\n",
              "      <td>-5.965784</td>\n",
              "      <td>-7.965784</td>\n",
              "      <td>-7.380822</td>\n",
              "      <td>-7.380822</td>\n",
              "      <td>-6.965784</td>\n",
              "      <td>-6.380822</td>\n",
              "      <td>-5.442222</td>\n",
              "    </tr>\n",
              "    <tr>\n",
              "      <th>log2_cfx_mic</th>\n",
              "      <td>NaN</td>\n",
              "      <td>NaN</td>\n",
              "      <td>NaN</td>\n",
              "      <td>NaN</td>\n",
              "      <td>NaN</td>\n",
              "      <td>NaN</td>\n",
              "      <td>NaN</td>\n",
              "    </tr>\n",
              "    <tr>\n",
              "      <th>log2_tet_mic</th>\n",
              "      <td>NaN</td>\n",
              "      <td>NaN</td>\n",
              "      <td>NaN</td>\n",
              "      <td>NaN</td>\n",
              "      <td>NaN</td>\n",
              "      <td>NaN</td>\n",
              "      <td>NaN</td>\n",
              "    </tr>\n",
              "    <tr>\n",
              "      <th>log2_pen_mic</th>\n",
              "      <td>NaN</td>\n",
              "      <td>NaN</td>\n",
              "      <td>NaN</td>\n",
              "      <td>NaN</td>\n",
              "      <td>NaN</td>\n",
              "      <td>NaN</td>\n",
              "      <td>NaN</td>\n",
              "    </tr>\n",
              "    <tr>\n",
              "      <th>azm_sr</th>\n",
              "      <td>1.0</td>\n",
              "      <td>1.0</td>\n",
              "      <td>1.0</td>\n",
              "      <td>1.0</td>\n",
              "      <td>1.0</td>\n",
              "      <td>1.0</td>\n",
              "      <td>1.0</td>\n",
              "    </tr>\n",
              "    <tr>\n",
              "      <th>cip_sr</th>\n",
              "      <td>NaN</td>\n",
              "      <td>NaN</td>\n",
              "      <td>NaN</td>\n",
              "      <td>NaN</td>\n",
              "      <td>NaN</td>\n",
              "      <td>NaN</td>\n",
              "      <td>NaN</td>\n",
              "    </tr>\n",
              "    <tr>\n",
              "      <th>cro_sr</th>\n",
              "      <td>0.0</td>\n",
              "      <td>0.0</td>\n",
              "      <td>0.0</td>\n",
              "      <td>0.0</td>\n",
              "      <td>0.0</td>\n",
              "      <td>0.0</td>\n",
              "      <td>0.0</td>\n",
              "    </tr>\n",
              "    <tr>\n",
              "      <th>cfx_sr</th>\n",
              "      <td>NaN</td>\n",
              "      <td>NaN</td>\n",
              "      <td>NaN</td>\n",
              "      <td>NaN</td>\n",
              "      <td>NaN</td>\n",
              "      <td>NaN</td>\n",
              "      <td>NaN</td>\n",
              "    </tr>\n",
              "    <tr>\n",
              "      <th>tet_sr</th>\n",
              "      <td>NaN</td>\n",
              "      <td>NaN</td>\n",
              "      <td>NaN</td>\n",
              "      <td>NaN</td>\n",
              "      <td>NaN</td>\n",
              "      <td>NaN</td>\n",
              "      <td>NaN</td>\n",
              "    </tr>\n",
              "    <tr>\n",
              "      <th>pen_sr</th>\n",
              "      <td>NaN</td>\n",
              "      <td>NaN</td>\n",
              "      <td>NaN</td>\n",
              "      <td>NaN</td>\n",
              "      <td>NaN</td>\n",
              "      <td>NaN</td>\n",
              "      <td>NaN</td>\n",
              "    </tr>\n",
              "  </tbody>\n",
              "</table>\n",
              "</div>\n",
              "    <div class=\"colab-df-buttons\">\n",
              "\n",
              "  <div class=\"colab-df-container\">\n",
              "    <button class=\"colab-df-convert\" onclick=\"convertToInteractive('df-b0098350-42d4-435d-9f31-7cd54c1fef04')\"\n",
              "            title=\"Convert this dataframe to an interactive table.\"\n",
              "            style=\"display:none;\">\n",
              "\n",
              "  <svg xmlns=\"http://www.w3.org/2000/svg\" height=\"24px\" viewBox=\"0 -960 960 960\">\n",
              "    <path d=\"M120-120v-720h720v720H120Zm60-500h600v-160H180v160Zm220 220h160v-160H400v160Zm0 220h160v-160H400v160ZM180-400h160v-160H180v160Zm440 0h160v-160H620v160ZM180-180h160v-160H180v160Zm440 0h160v-160H620v160Z\"/>\n",
              "  </svg>\n",
              "    </button>\n",
              "\n",
              "  <style>\n",
              "    .colab-df-container {\n",
              "      display:flex;\n",
              "      gap: 12px;\n",
              "    }\n",
              "\n",
              "    .colab-df-convert {\n",
              "      background-color: #E8F0FE;\n",
              "      border: none;\n",
              "      border-radius: 50%;\n",
              "      cursor: pointer;\n",
              "      display: none;\n",
              "      fill: #1967D2;\n",
              "      height: 32px;\n",
              "      padding: 0 0 0 0;\n",
              "      width: 32px;\n",
              "    }\n",
              "\n",
              "    .colab-df-convert:hover {\n",
              "      background-color: #E2EBFA;\n",
              "      box-shadow: 0px 1px 2px rgba(60, 64, 67, 0.3), 0px 1px 3px 1px rgba(60, 64, 67, 0.15);\n",
              "      fill: #174EA6;\n",
              "    }\n",
              "\n",
              "    .colab-df-buttons div {\n",
              "      margin-bottom: 4px;\n",
              "    }\n",
              "\n",
              "    [theme=dark] .colab-df-convert {\n",
              "      background-color: #3B4455;\n",
              "      fill: #D2E3FC;\n",
              "    }\n",
              "\n",
              "    [theme=dark] .colab-df-convert:hover {\n",
              "      background-color: #434B5C;\n",
              "      box-shadow: 0px 1px 3px 1px rgba(0, 0, 0, 0.15);\n",
              "      filter: drop-shadow(0px 1px 2px rgba(0, 0, 0, 0.3));\n",
              "      fill: #FFFFFF;\n",
              "    }\n",
              "  </style>\n",
              "\n",
              "    <script>\n",
              "      const buttonEl =\n",
              "        document.querySelector('#df-b0098350-42d4-435d-9f31-7cd54c1fef04 button.colab-df-convert');\n",
              "      buttonEl.style.display =\n",
              "        google.colab.kernel.accessAllowed ? 'block' : 'none';\n",
              "\n",
              "      async function convertToInteractive(key) {\n",
              "        const element = document.querySelector('#df-b0098350-42d4-435d-9f31-7cd54c1fef04');\n",
              "        const dataTable =\n",
              "          await google.colab.kernel.invokeFunction('convertToInteractive',\n",
              "                                                    [key], {});\n",
              "        if (!dataTable) return;\n",
              "\n",
              "        const docLinkHtml = 'Like what you see? Visit the ' +\n",
              "          '<a target=\"_blank\" href=https://colab.research.google.com/notebooks/data_table.ipynb>data table notebook</a>'\n",
              "          + ' to learn more about interactive tables.';\n",
              "        element.innerHTML = '';\n",
              "        dataTable['output_type'] = 'display_data';\n",
              "        await google.colab.output.renderOutput(dataTable, element);\n",
              "        const docLink = document.createElement('div');\n",
              "        docLink.innerHTML = docLinkHtml;\n",
              "        element.appendChild(docLink);\n",
              "      }\n",
              "    </script>\n",
              "  </div>\n",
              "\n",
              "\n",
              "<div id=\"df-52b3af39-9550-442f-86ec-abba2dd5e817\">\n",
              "  <button class=\"colab-df-quickchart\" onclick=\"quickchart('df-52b3af39-9550-442f-86ec-abba2dd5e817')\"\n",
              "            title=\"Suggest charts\"\n",
              "            style=\"display:none;\">\n",
              "\n",
              "<svg xmlns=\"http://www.w3.org/2000/svg\" height=\"24px\"viewBox=\"0 0 24 24\"\n",
              "     width=\"24px\">\n",
              "    <g>\n",
              "        <path d=\"M19 3H5c-1.1 0-2 .9-2 2v14c0 1.1.9 2 2 2h14c1.1 0 2-.9 2-2V5c0-1.1-.9-2-2-2zM9 17H7v-7h2v7zm4 0h-2V7h2v10zm4 0h-2v-4h2v4z\"/>\n",
              "    </g>\n",
              "</svg>\n",
              "  </button>\n",
              "\n",
              "<style>\n",
              "  .colab-df-quickchart {\n",
              "      --bg-color: #E8F0FE;\n",
              "      --fill-color: #1967D2;\n",
              "      --hover-bg-color: #E2EBFA;\n",
              "      --hover-fill-color: #174EA6;\n",
              "      --disabled-fill-color: #AAA;\n",
              "      --disabled-bg-color: #DDD;\n",
              "  }\n",
              "\n",
              "  [theme=dark] .colab-df-quickchart {\n",
              "      --bg-color: #3B4455;\n",
              "      --fill-color: #D2E3FC;\n",
              "      --hover-bg-color: #434B5C;\n",
              "      --hover-fill-color: #FFFFFF;\n",
              "      --disabled-bg-color: #3B4455;\n",
              "      --disabled-fill-color: #666;\n",
              "  }\n",
              "\n",
              "  .colab-df-quickchart {\n",
              "    background-color: var(--bg-color);\n",
              "    border: none;\n",
              "    border-radius: 50%;\n",
              "    cursor: pointer;\n",
              "    display: none;\n",
              "    fill: var(--fill-color);\n",
              "    height: 32px;\n",
              "    padding: 0;\n",
              "    width: 32px;\n",
              "  }\n",
              "\n",
              "  .colab-df-quickchart:hover {\n",
              "    background-color: var(--hover-bg-color);\n",
              "    box-shadow: 0 1px 2px rgba(60, 64, 67, 0.3), 0 1px 3px 1px rgba(60, 64, 67, 0.15);\n",
              "    fill: var(--button-hover-fill-color);\n",
              "  }\n",
              "\n",
              "  .colab-df-quickchart-complete:disabled,\n",
              "  .colab-df-quickchart-complete:disabled:hover {\n",
              "    background-color: var(--disabled-bg-color);\n",
              "    fill: var(--disabled-fill-color);\n",
              "    box-shadow: none;\n",
              "  }\n",
              "\n",
              "  .colab-df-spinner {\n",
              "    border: 2px solid var(--fill-color);\n",
              "    border-color: transparent;\n",
              "    border-bottom-color: var(--fill-color);\n",
              "    animation:\n",
              "      spin 1s steps(1) infinite;\n",
              "  }\n",
              "\n",
              "  @keyframes spin {\n",
              "    0% {\n",
              "      border-color: transparent;\n",
              "      border-bottom-color: var(--fill-color);\n",
              "      border-left-color: var(--fill-color);\n",
              "    }\n",
              "    20% {\n",
              "      border-color: transparent;\n",
              "      border-left-color: var(--fill-color);\n",
              "      border-top-color: var(--fill-color);\n",
              "    }\n",
              "    30% {\n",
              "      border-color: transparent;\n",
              "      border-left-color: var(--fill-color);\n",
              "      border-top-color: var(--fill-color);\n",
              "      border-right-color: var(--fill-color);\n",
              "    }\n",
              "    40% {\n",
              "      border-color: transparent;\n",
              "      border-right-color: var(--fill-color);\n",
              "      border-top-color: var(--fill-color);\n",
              "    }\n",
              "    60% {\n",
              "      border-color: transparent;\n",
              "      border-right-color: var(--fill-color);\n",
              "    }\n",
              "    80% {\n",
              "      border-color: transparent;\n",
              "      border-right-color: var(--fill-color);\n",
              "      border-bottom-color: var(--fill-color);\n",
              "    }\n",
              "    90% {\n",
              "      border-color: transparent;\n",
              "      border-bottom-color: var(--fill-color);\n",
              "    }\n",
              "  }\n",
              "</style>\n",
              "\n",
              "  <script>\n",
              "    async function quickchart(key) {\n",
              "      const quickchartButtonEl =\n",
              "        document.querySelector('#' + key + ' button');\n",
              "      quickchartButtonEl.disabled = true;  // To prevent multiple clicks.\n",
              "      quickchartButtonEl.classList.add('colab-df-spinner');\n",
              "      try {\n",
              "        const charts = await google.colab.kernel.invokeFunction(\n",
              "            'suggestCharts', [key], {});\n",
              "      } catch (error) {\n",
              "        console.error('Error during call to suggestCharts:', error);\n",
              "      }\n",
              "      quickchartButtonEl.classList.remove('colab-df-spinner');\n",
              "      quickchartButtonEl.classList.add('colab-df-quickchart-complete');\n",
              "    }\n",
              "    (() => {\n",
              "      let quickchartButtonEl =\n",
              "        document.querySelector('#df-52b3af39-9550-442f-86ec-abba2dd5e817 button');\n",
              "      quickchartButtonEl.style.display =\n",
              "        google.colab.kernel.accessAllowed ? 'block' : 'none';\n",
              "    })();\n",
              "  </script>\n",
              "</div>\n",
              "\n",
              "    </div>\n",
              "  </div>\n"
            ],
            "application/vnd.google.colaboratory.intrinsic+json": {
              "type": "dataframe",
              "summary": "{\n  \"name\": \"display(case_cip\",\n  \"rows\": 30,\n  \"fields\": [\n    {\n      \"column\": \"ERR1549286\",\n      \"properties\": {\n        \"dtype\": \"category\",\n        \"num_unique_values\": 13,\n        \"samples\": [\n          1.0,\n          9.0,\n          2015.0\n        ],\n        \"semantic_type\": \"\",\n        \"description\": \"\"\n      }\n    },\n    {\n      \"column\": \"ERR1549290\",\n      \"properties\": {\n        \"dtype\": \"category\",\n        \"num_unique_values\": 13,\n        \"samples\": [\n          1.0,\n          9.0,\n          2015.0\n        ],\n        \"semantic_type\": \"\",\n        \"description\": \"\"\n      }\n    },\n    {\n      \"column\": \"ERR1549291\",\n      \"properties\": {\n        \"dtype\": \"category\",\n        \"num_unique_values\": 13,\n        \"samples\": [\n          1.0,\n          9.0,\n          2015.0\n        ],\n        \"semantic_type\": \"\",\n        \"description\": \"\"\n      }\n    },\n    {\n      \"column\": \"ERR1549287\",\n      \"properties\": {\n        \"dtype\": \"category\",\n        \"num_unique_values\": 13,\n        \"samples\": [\n          1.0,\n          9.0,\n          2015.0\n        ],\n        \"semantic_type\": \"\",\n        \"description\": \"\"\n      }\n    },\n    {\n      \"column\": \"ERR1549288\",\n      \"properties\": {\n        \"dtype\": \"category\",\n        \"num_unique_values\": 13,\n        \"samples\": [\n          1.0,\n          9.0,\n          2015.0\n        ],\n        \"semantic_type\": \"\",\n        \"description\": \"\"\n      }\n    },\n    {\n      \"column\": \"ERR1549299\",\n      \"properties\": {\n        \"dtype\": \"category\",\n        \"num_unique_values\": 11,\n        \"samples\": [\n          0,\n          2015.0,\n          -6.380821784\n        ],\n        \"semantic_type\": \"\",\n        \"description\": \"\"\n      }\n    },\n    {\n      \"column\": \"ERR1549292\",\n      \"properties\": {\n        \"dtype\": \"category\",\n        \"num_unique_values\": 13,\n        \"samples\": [\n          1.0,\n          9.0,\n          2015.0\n        ],\n        \"semantic_type\": \"\",\n        \"description\": \"\"\n      }\n    }\n  ]\n}"
            }
          },
          "metadata": {}
        }
      ]
    },
    {
      "cell_type": "code",
      "source": [
        "case_cip.get_case(phenotype='cip_sr')\n",
        "# case_cip.X.iloc[:,:2].head()"
      ],
      "metadata": {
        "colab": {
          "base_uri": "https://localhost:8080/"
        },
        "id": "Pt57nTBSQZoZ",
        "outputId": "ad9b05d1-c9bb-431f-dc13-f0cc5f83cc5c"
      },
      "execution_count": null,
      "outputs": [
        {
          "output_type": "stream",
          "name": "stdout",
          "text": [
            "Target Antibiotic: cip_sr\n",
            "Metadata df: (3786, 30)\n",
            "Metadata df after na() removal (3088, 30)\n",
            "\n",
            "Combining Metadata & Unitigs\n",
            "Unitig Matrix (+target): (3088, 8874)\n"
          ]
        }
      ]
    },
    {
      "cell_type": "code",
      "source": [
        "case_cip.get_case(phenotype='cfx_sr')\n",
        "# case_cip.X.iloc[:,:2].head()"
      ],
      "metadata": {
        "colab": {
          "base_uri": "https://localhost:8080/"
        },
        "id": "iv0-AKlytGX-",
        "outputId": "a7f832c3-cee9-4556-c032-9a1b923ddf66"
      },
      "execution_count": null,
      "outputs": [
        {
          "output_type": "stream",
          "name": "stdout",
          "text": [
            "Target Antibiotic: cfx_sr\n",
            "Metadata df: (3786, 30)\n",
            "Metadata df after na() removal (3401, 30)\n",
            "\n",
            "Combining Metadata & Unitigs\n",
            "Unitig Matrix (+target): (3401, 385)\n"
          ]
        }
      ]
    },
    {
      "cell_type": "code",
      "source": [
        "case_cip.get_case(phenotype='azm_sr')\n",
        "# case_cip.X.iloc[:,:2].head()"
      ],
      "metadata": {
        "colab": {
          "base_uri": "https://localhost:8080/"
        },
        "id": "EXTQiy_QtKkr",
        "outputId": "78595b44-9994-4b81-95a4-db6c771bf0a5"
      },
      "execution_count": null,
      "outputs": [
        {
          "output_type": "stream",
          "name": "stdout",
          "text": [
            "Target Antibiotic: azm_sr\n",
            "Metadata df: (3786, 30)\n",
            "Metadata df after na() removal (3478, 30)\n",
            "\n",
            "Combining Metadata & Unitigs\n",
            "Unitig Matrix (+target): (3478, 516)\n"
          ]
        }
      ]
    },
    {
      "cell_type": "markdown",
      "source": [
        "The target vector, is also stored in X, and represents the resistance property of the sample\n",
        "The Sample_ID is either 1.0 (resistant) or 0.0 (non-resistant) to a particular antibiotic"
      ],
      "metadata": {
        "id": "nR1NdAl2XA0k"
      }
    },
    {
      "cell_type": "code",
      "source": [
        "target = case_cip.X[case_cip.target_name]\n",
        "print(target[:5])"
      ],
      "metadata": {
        "colab": {
          "base_uri": "https://localhost:8080/"
        },
        "id": "TSlBAJcAVSuR",
        "outputId": "369f2ff5-0bee-4b89-c40d-41bf4b7e14e4"
      },
      "execution_count": null,
      "outputs": [
        {
          "output_type": "stream",
          "name": "stdout",
          "text": [
            "ERR1549286    1.0\n",
            "ERR1549290    1.0\n",
            "ERR1549291    1.0\n",
            "ERR1549287    1.0\n",
            "ERR1549288    1.0\n",
            "Name: azm_sr, dtype: float64\n"
          ]
        }
      ]
    },
    {
      "cell_type": "markdown",
      "source": [
        "TARGET DISTRIBUTIONS & UNITIG COUNT"
      ],
      "metadata": {
        "id": "jrFcbs1tXMj9"
      }
    },
    {
      "cell_type": "code",
      "source": [
        "case = get_unitigs()\n",
        "case.get_case('cip_sr')\n",
        "print(case.X[case.target_name].value_counts())"
      ],
      "metadata": {
        "colab": {
          "base_uri": "https://localhost:8080/"
        },
        "id": "PM4yuHccf3uv",
        "outputId": "7e207b0b-89b3-45b5-bcb1-16fac9bf49d4"
      },
      "execution_count": null,
      "outputs": [
        {
          "output_type": "stream",
          "name": "stdout",
          "text": [
            "Target Antibiotic: cip_sr\n",
            "Metadata df: (3786, 30)\n",
            "Metadata df after na() removal (3088, 30)\n",
            "\n",
            "Combining Metadata & Unitigs\n",
            "Unitig Matrix (+target): (3088, 8874)\n",
            "cip_sr\n",
            "0.0    1660\n",
            "1.0    1428\n",
            "Name: count, dtype: int64\n"
          ]
        }
      ]
    },
    {
      "cell_type": "code",
      "source": [
        "case = get_unitigs()\n",
        "case.get_case('azm_sr')\n",
        "print(case.X[case.target_name].value_counts())"
      ],
      "metadata": {
        "colab": {
          "base_uri": "https://localhost:8080/"
        },
        "id": "TdcawOfggEIA",
        "outputId": "3cc422d5-5520-4dfa-be6b-efbde7e850b2"
      },
      "execution_count": null,
      "outputs": [
        {
          "output_type": "stream",
          "name": "stdout",
          "text": [
            "Target Antibiotic: azm_sr\n",
            "Metadata df: (3786, 30)\n",
            "Metadata df after na() removal (3478, 30)\n",
            "\n",
            "Combining Metadata & Unitigs\n",
            "Unitig Matrix (+target): (3478, 516)\n",
            "azm_sr\n",
            "0.0    3031\n",
            "1.0     447\n",
            "Name: count, dtype: int64\n"
          ]
        }
      ]
    },
    {
      "cell_type": "code",
      "source": [
        "case = get_unitigs()\n",
        "case.get_case('cfx_sr')\n",
        "print(case.X[case.target_name].value_counts())"
      ],
      "metadata": {
        "colab": {
          "base_uri": "https://localhost:8080/"
        },
        "id": "MClHYLMKgLk8",
        "outputId": "01c1ed94-9a28-4a39-ba06-9e69cb6e9480"
      },
      "execution_count": null,
      "outputs": [
        {
          "output_type": "stream",
          "name": "stdout",
          "text": [
            "Target Antibiotic: cfx_sr\n",
            "Metadata df: (3786, 30)\n",
            "Metadata df after na() removal (3401, 30)\n",
            "\n",
            "Combining Metadata & Unitigs\n",
            "Unitig Matrix (+target): (3401, 385)\n",
            "cfx_sr\n",
            "0.0    3396\n",
            "1.0       5\n",
            "Name: count, dtype: int64\n"
          ]
        }
      ]
    },
    {
      "cell_type": "markdown",
      "source": [
        "the concentration of antibiotic bacteria can tolerate before it impairs their growth."
      ],
      "metadata": {
        "id": "0krixMAYXy64"
      }
    },
    {
      "cell_type": "code",
      "source": [
        "def get_mic():\n",
        "\n",
        "    lst_cases = ['azm_mic','cip_mic','cfx_mic']\n",
        "    rtabs = ['azm_sr','cip_sr','cfx_sr']\n",
        "    lst_temp = []\n",
        "\n",
        "    ii=-1\n",
        "    for case in lst_cases:\n",
        "\n",
        "        ii+=1\n",
        "        case_id = get_unitigs(verbose=False)\n",
        "        case_id.get_case(rtabs[ii])\n",
        "\n",
        "        X_all = pd.concat([case_id.X,case_id.metadata],axis=1)\n",
        "\n",
        "        new_df = X_all[case].value_counts().rename_axis(case).reset_index(name='counts')\n",
        "        new_df = new_df.rename(columns={new_df.columns[0]: 'mic'})\n",
        "        new_df['case'] = case\n",
        "        lst_temp.append(new_df)\n",
        "\n",
        "    X_counts = pd.concat([lst_temp[0],lst_temp[1],lst_temp[2]],axis=0)\n",
        "    X_counts.sort_values(by='mic',inplace=True,ascending=True)\n",
        "    X_counts['mic'] = X_counts['mic'].astype(str)\n",
        "\n",
        "    fig = px.bar(X_counts, x='mic',y='counts',color='case')\n",
        "    fig.update_layout(template='plotly_white',height=300)\n",
        "    fig.show()"
      ],
      "metadata": {
        "id": "27lc2LDngyU4"
      },
      "execution_count": null,
      "outputs": []
    },
    {
      "cell_type": "code",
      "source": [
        "get_mic()"
      ],
      "metadata": {
        "colab": {
          "base_uri": "https://localhost:8080/",
          "height": 317
        },
        "id": "-UIRVZvCX85d",
        "outputId": "06117c9f-3f9a-4d4c-ce0d-d7e119f256dd"
      },
      "execution_count": null,
      "outputs": [
        {
          "output_type": "display_data",
          "data": {
            "text/html": [
              "<html>\n",
              "<head><meta charset=\"utf-8\" /></head>\n",
              "<body>\n",
              "    <div>            <script src=\"https://cdnjs.cloudflare.com/ajax/libs/mathjax/2.7.5/MathJax.js?config=TeX-AMS-MML_SVG\"></script><script type=\"text/javascript\">if (window.MathJax && window.MathJax.Hub && window.MathJax.Hub.Config) {window.MathJax.Hub.Config({SVG: {font: \"STIX-Web\"}});}</script>                <script type=\"text/javascript\">window.PlotlyConfig = {MathJaxConfig: 'local'};</script>\n",
              "        <script charset=\"utf-8\" src=\"https://cdn.plot.ly/plotly-2.24.1.min.js\"></script>                <div id=\"e04fbbb7-1286-48bb-93ae-c04daa858930\" class=\"plotly-graph-div\" style=\"height:300px; width:100%;\"></div>            <script type=\"text/javascript\">                                    window.PLOTLYENV=window.PLOTLYENV || {};                                    if (document.getElementById(\"e04fbbb7-1286-48bb-93ae-c04daa858930\")) {                    Plotly.newPlot(                        \"e04fbbb7-1286-48bb-93ae-c04daa858930\",                        [{\"alignmentgroup\":\"True\",\"hovertemplate\":\"case=cfx_mic\\u003cbr\\u003emic=%{x}\\u003cbr\\u003ecounts=%{y}\\u003cextra\\u003e\\u003c\\u002fextra\\u003e\",\"legendgroup\":\"cfx_mic\",\"marker\":{\"color\":\"#636efa\",\"pattern\":{\"shape\":\"\"}},\"name\":\"cfx_mic\",\"offsetgroup\":\"cfx_mic\",\"orientation\":\"v\",\"showlegend\":true,\"textposition\":\"auto\",\"x\":[\"0.001\",\"0.002\",\"0.004\",\"0.007\",\"0.008\",\"0.015\",\"0.016\",\"0.023\",\"0.03\",\"0.032\",\"0.047\",\"0.06\",\"0.063\",\"0.064\",\"0.094\",\"0.12\",\"0.125\",\"0.19\",\"0.25\",\"0.38\",\"0.5\",\"0.75\",\"1.0\",\"2.0\",\"3.0\",\"4.0\",\"8.0\"],\"xaxis\":\"x\",\"y\":[2,25,104,10,433,332,917,105,324,147,78,181,42,48,45,30,195,30,307,5,30,1,5,1,1,2,1],\"yaxis\":\"y\",\"type\":\"bar\"},{\"alignmentgroup\":\"True\",\"hovertemplate\":\"case=cip_mic\\u003cbr\\u003emic=%{x}\\u003cbr\\u003ecounts=%{y}\\u003cextra\\u003e\\u003c\\u002fextra\\u003e\",\"legendgroup\":\"cip_mic\",\"marker\":{\"color\":\"#EF553B\",\"pattern\":{\"shape\":\"\"}},\"name\":\"cip_mic\",\"offsetgroup\":\"cip_mic\",\"orientation\":\"v\",\"showlegend\":true,\"textposition\":\"auto\",\"x\":[\"0.001\",\"0.002\",\"0.003\",\"0.004\",\"0.006\",\"0.007\",\"0.008\",\"0.012\",\"0.015\",\"0.016\",\"0.0169\",\"0.02\",\"0.023\",\"0.03\",\"0.032\",\"0.047\",\"0.06\",\"0.063\",\"0.064\",\"0.094\",\"0.12\",\"0.125\",\"0.19\",\"0.25\",\"0.38\",\"0.5\",\"0.75\",\"1.0\",\"1.5\",\"2.0\",\"3.0\",\"4.0\",\"6.0\",\"8.0\",\"12.0\",\"16.0\",\"24.0\",\"32.0\",\"64.0\"],\"xaxis\":\"x\",\"y\":[3,244,114,412,53,32,147,15,357,27,1,1,5,114,4,3,5,1,5,3,9,13,4,19,7,15,13,34,16,84,27,196,21,229,14,483,10,330,18],\"yaxis\":\"y\",\"type\":\"bar\"},{\"alignmentgroup\":\"True\",\"hovertemplate\":\"case=azm_mic\\u003cbr\\u003emic=%{x}\\u003cbr\\u003ecounts=%{y}\\u003cextra\\u003e\\u003c\\u002fextra\\u003e\",\"legendgroup\":\"azm_mic\",\"marker\":{\"color\":\"#00cc96\",\"pattern\":{\"shape\":\"\"}},\"name\":\"azm_mic\",\"offsetgroup\":\"azm_mic\",\"orientation\":\"v\",\"showlegend\":true,\"textposition\":\"auto\",\"x\":[\"0.004\",\"0.015\",\"0.016\",\"0.023\",\"0.03\",\"0.032\",\"0.047\",\"0.06\",\"0.063\",\"0.064\",\"0.094\",\"0.12\",\"0.125\",\"0.19\",\"0.25\",\"0.38\",\"0.5\",\"0.75\",\"1.0\",\"1.5\",\"2.0\",\"3.0\",\"4.0\",\"6.0\",\"8.0\",\"12.0\",\"16.0\",\"32.0\",\"256.0\",\"512.0\",\"1024.0\"],\"xaxis\":\"x\",\"y\":[1,1,41,14,88,51,57,107,24,66,73,110,297,97,698,80,697,60,277,6,186,3,92,1,151,3,89,3,1,101,3],\"yaxis\":\"y\",\"type\":\"bar\"}],                        {\"template\":{\"data\":{\"barpolar\":[{\"marker\":{\"line\":{\"color\":\"white\",\"width\":0.5},\"pattern\":{\"fillmode\":\"overlay\",\"size\":10,\"solidity\":0.2}},\"type\":\"barpolar\"}],\"bar\":[{\"error_x\":{\"color\":\"#2a3f5f\"},\"error_y\":{\"color\":\"#2a3f5f\"},\"marker\":{\"line\":{\"color\":\"white\",\"width\":0.5},\"pattern\":{\"fillmode\":\"overlay\",\"size\":10,\"solidity\":0.2}},\"type\":\"bar\"}],\"carpet\":[{\"aaxis\":{\"endlinecolor\":\"#2a3f5f\",\"gridcolor\":\"#C8D4E3\",\"linecolor\":\"#C8D4E3\",\"minorgridcolor\":\"#C8D4E3\",\"startlinecolor\":\"#2a3f5f\"},\"baxis\":{\"endlinecolor\":\"#2a3f5f\",\"gridcolor\":\"#C8D4E3\",\"linecolor\":\"#C8D4E3\",\"minorgridcolor\":\"#C8D4E3\",\"startlinecolor\":\"#2a3f5f\"},\"type\":\"carpet\"}],\"choropleth\":[{\"colorbar\":{\"outlinewidth\":0,\"ticks\":\"\"},\"type\":\"choropleth\"}],\"contourcarpet\":[{\"colorbar\":{\"outlinewidth\":0,\"ticks\":\"\"},\"type\":\"contourcarpet\"}],\"contour\":[{\"colorbar\":{\"outlinewidth\":0,\"ticks\":\"\"},\"colorscale\":[[0.0,\"#0d0887\"],[0.1111111111111111,\"#46039f\"],[0.2222222222222222,\"#7201a8\"],[0.3333333333333333,\"#9c179e\"],[0.4444444444444444,\"#bd3786\"],[0.5555555555555556,\"#d8576b\"],[0.6666666666666666,\"#ed7953\"],[0.7777777777777778,\"#fb9f3a\"],[0.8888888888888888,\"#fdca26\"],[1.0,\"#f0f921\"]],\"type\":\"contour\"}],\"heatmapgl\":[{\"colorbar\":{\"outlinewidth\":0,\"ticks\":\"\"},\"colorscale\":[[0.0,\"#0d0887\"],[0.1111111111111111,\"#46039f\"],[0.2222222222222222,\"#7201a8\"],[0.3333333333333333,\"#9c179e\"],[0.4444444444444444,\"#bd3786\"],[0.5555555555555556,\"#d8576b\"],[0.6666666666666666,\"#ed7953\"],[0.7777777777777778,\"#fb9f3a\"],[0.8888888888888888,\"#fdca26\"],[1.0,\"#f0f921\"]],\"type\":\"heatmapgl\"}],\"heatmap\":[{\"colorbar\":{\"outlinewidth\":0,\"ticks\":\"\"},\"colorscale\":[[0.0,\"#0d0887\"],[0.1111111111111111,\"#46039f\"],[0.2222222222222222,\"#7201a8\"],[0.3333333333333333,\"#9c179e\"],[0.4444444444444444,\"#bd3786\"],[0.5555555555555556,\"#d8576b\"],[0.6666666666666666,\"#ed7953\"],[0.7777777777777778,\"#fb9f3a\"],[0.8888888888888888,\"#fdca26\"],[1.0,\"#f0f921\"]],\"type\":\"heatmap\"}],\"histogram2dcontour\":[{\"colorbar\":{\"outlinewidth\":0,\"ticks\":\"\"},\"colorscale\":[[0.0,\"#0d0887\"],[0.1111111111111111,\"#46039f\"],[0.2222222222222222,\"#7201a8\"],[0.3333333333333333,\"#9c179e\"],[0.4444444444444444,\"#bd3786\"],[0.5555555555555556,\"#d8576b\"],[0.6666666666666666,\"#ed7953\"],[0.7777777777777778,\"#fb9f3a\"],[0.8888888888888888,\"#fdca26\"],[1.0,\"#f0f921\"]],\"type\":\"histogram2dcontour\"}],\"histogram2d\":[{\"colorbar\":{\"outlinewidth\":0,\"ticks\":\"\"},\"colorscale\":[[0.0,\"#0d0887\"],[0.1111111111111111,\"#46039f\"],[0.2222222222222222,\"#7201a8\"],[0.3333333333333333,\"#9c179e\"],[0.4444444444444444,\"#bd3786\"],[0.5555555555555556,\"#d8576b\"],[0.6666666666666666,\"#ed7953\"],[0.7777777777777778,\"#fb9f3a\"],[0.8888888888888888,\"#fdca26\"],[1.0,\"#f0f921\"]],\"type\":\"histogram2d\"}],\"histogram\":[{\"marker\":{\"pattern\":{\"fillmode\":\"overlay\",\"size\":10,\"solidity\":0.2}},\"type\":\"histogram\"}],\"mesh3d\":[{\"colorbar\":{\"outlinewidth\":0,\"ticks\":\"\"},\"type\":\"mesh3d\"}],\"parcoords\":[{\"line\":{\"colorbar\":{\"outlinewidth\":0,\"ticks\":\"\"}},\"type\":\"parcoords\"}],\"pie\":[{\"automargin\":true,\"type\":\"pie\"}],\"scatter3d\":[{\"line\":{\"colorbar\":{\"outlinewidth\":0,\"ticks\":\"\"}},\"marker\":{\"colorbar\":{\"outlinewidth\":0,\"ticks\":\"\"}},\"type\":\"scatter3d\"}],\"scattercarpet\":[{\"marker\":{\"colorbar\":{\"outlinewidth\":0,\"ticks\":\"\"}},\"type\":\"scattercarpet\"}],\"scattergeo\":[{\"marker\":{\"colorbar\":{\"outlinewidth\":0,\"ticks\":\"\"}},\"type\":\"scattergeo\"}],\"scattergl\":[{\"marker\":{\"colorbar\":{\"outlinewidth\":0,\"ticks\":\"\"}},\"type\":\"scattergl\"}],\"scattermapbox\":[{\"marker\":{\"colorbar\":{\"outlinewidth\":0,\"ticks\":\"\"}},\"type\":\"scattermapbox\"}],\"scatterpolargl\":[{\"marker\":{\"colorbar\":{\"outlinewidth\":0,\"ticks\":\"\"}},\"type\":\"scatterpolargl\"}],\"scatterpolar\":[{\"marker\":{\"colorbar\":{\"outlinewidth\":0,\"ticks\":\"\"}},\"type\":\"scatterpolar\"}],\"scatter\":[{\"fillpattern\":{\"fillmode\":\"overlay\",\"size\":10,\"solidity\":0.2},\"type\":\"scatter\"}],\"scatterternary\":[{\"marker\":{\"colorbar\":{\"outlinewidth\":0,\"ticks\":\"\"}},\"type\":\"scatterternary\"}],\"surface\":[{\"colorbar\":{\"outlinewidth\":0,\"ticks\":\"\"},\"colorscale\":[[0.0,\"#0d0887\"],[0.1111111111111111,\"#46039f\"],[0.2222222222222222,\"#7201a8\"],[0.3333333333333333,\"#9c179e\"],[0.4444444444444444,\"#bd3786\"],[0.5555555555555556,\"#d8576b\"],[0.6666666666666666,\"#ed7953\"],[0.7777777777777778,\"#fb9f3a\"],[0.8888888888888888,\"#fdca26\"],[1.0,\"#f0f921\"]],\"type\":\"surface\"}],\"table\":[{\"cells\":{\"fill\":{\"color\":\"#EBF0F8\"},\"line\":{\"color\":\"white\"}},\"header\":{\"fill\":{\"color\":\"#C8D4E3\"},\"line\":{\"color\":\"white\"}},\"type\":\"table\"}]},\"layout\":{\"annotationdefaults\":{\"arrowcolor\":\"#2a3f5f\",\"arrowhead\":0,\"arrowwidth\":1},\"autotypenumbers\":\"strict\",\"coloraxis\":{\"colorbar\":{\"outlinewidth\":0,\"ticks\":\"\"}},\"colorscale\":{\"diverging\":[[0,\"#8e0152\"],[0.1,\"#c51b7d\"],[0.2,\"#de77ae\"],[0.3,\"#f1b6da\"],[0.4,\"#fde0ef\"],[0.5,\"#f7f7f7\"],[0.6,\"#e6f5d0\"],[0.7,\"#b8e186\"],[0.8,\"#7fbc41\"],[0.9,\"#4d9221\"],[1,\"#276419\"]],\"sequential\":[[0.0,\"#0d0887\"],[0.1111111111111111,\"#46039f\"],[0.2222222222222222,\"#7201a8\"],[0.3333333333333333,\"#9c179e\"],[0.4444444444444444,\"#bd3786\"],[0.5555555555555556,\"#d8576b\"],[0.6666666666666666,\"#ed7953\"],[0.7777777777777778,\"#fb9f3a\"],[0.8888888888888888,\"#fdca26\"],[1.0,\"#f0f921\"]],\"sequentialminus\":[[0.0,\"#0d0887\"],[0.1111111111111111,\"#46039f\"],[0.2222222222222222,\"#7201a8\"],[0.3333333333333333,\"#9c179e\"],[0.4444444444444444,\"#bd3786\"],[0.5555555555555556,\"#d8576b\"],[0.6666666666666666,\"#ed7953\"],[0.7777777777777778,\"#fb9f3a\"],[0.8888888888888888,\"#fdca26\"],[1.0,\"#f0f921\"]]},\"colorway\":[\"#636efa\",\"#EF553B\",\"#00cc96\",\"#ab63fa\",\"#FFA15A\",\"#19d3f3\",\"#FF6692\",\"#B6E880\",\"#FF97FF\",\"#FECB52\"],\"font\":{\"color\":\"#2a3f5f\"},\"geo\":{\"bgcolor\":\"white\",\"lakecolor\":\"white\",\"landcolor\":\"white\",\"showlakes\":true,\"showland\":true,\"subunitcolor\":\"#C8D4E3\"},\"hoverlabel\":{\"align\":\"left\"},\"hovermode\":\"closest\",\"mapbox\":{\"style\":\"light\"},\"paper_bgcolor\":\"white\",\"plot_bgcolor\":\"white\",\"polar\":{\"angularaxis\":{\"gridcolor\":\"#EBF0F8\",\"linecolor\":\"#EBF0F8\",\"ticks\":\"\"},\"bgcolor\":\"white\",\"radialaxis\":{\"gridcolor\":\"#EBF0F8\",\"linecolor\":\"#EBF0F8\",\"ticks\":\"\"}},\"scene\":{\"xaxis\":{\"backgroundcolor\":\"white\",\"gridcolor\":\"#DFE8F3\",\"gridwidth\":2,\"linecolor\":\"#EBF0F8\",\"showbackground\":true,\"ticks\":\"\",\"zerolinecolor\":\"#EBF0F8\"},\"yaxis\":{\"backgroundcolor\":\"white\",\"gridcolor\":\"#DFE8F3\",\"gridwidth\":2,\"linecolor\":\"#EBF0F8\",\"showbackground\":true,\"ticks\":\"\",\"zerolinecolor\":\"#EBF0F8\"},\"zaxis\":{\"backgroundcolor\":\"white\",\"gridcolor\":\"#DFE8F3\",\"gridwidth\":2,\"linecolor\":\"#EBF0F8\",\"showbackground\":true,\"ticks\":\"\",\"zerolinecolor\":\"#EBF0F8\"}},\"shapedefaults\":{\"line\":{\"color\":\"#2a3f5f\"}},\"ternary\":{\"aaxis\":{\"gridcolor\":\"#DFE8F3\",\"linecolor\":\"#A2B1C6\",\"ticks\":\"\"},\"baxis\":{\"gridcolor\":\"#DFE8F3\",\"linecolor\":\"#A2B1C6\",\"ticks\":\"\"},\"bgcolor\":\"white\",\"caxis\":{\"gridcolor\":\"#DFE8F3\",\"linecolor\":\"#A2B1C6\",\"ticks\":\"\"}},\"title\":{\"x\":0.05},\"xaxis\":{\"automargin\":true,\"gridcolor\":\"#EBF0F8\",\"linecolor\":\"#EBF0F8\",\"ticks\":\"\",\"title\":{\"standoff\":15},\"zerolinecolor\":\"#EBF0F8\",\"zerolinewidth\":2},\"yaxis\":{\"automargin\":true,\"gridcolor\":\"#EBF0F8\",\"linecolor\":\"#EBF0F8\",\"ticks\":\"\",\"title\":{\"standoff\":15},\"zerolinecolor\":\"#EBF0F8\",\"zerolinewidth\":2}}},\"xaxis\":{\"anchor\":\"y\",\"domain\":[0.0,1.0],\"title\":{\"text\":\"mic\"}},\"yaxis\":{\"anchor\":\"x\",\"domain\":[0.0,1.0],\"title\":{\"text\":\"counts\"}},\"legend\":{\"title\":{\"text\":\"case\"},\"tracegroupgap\":0},\"margin\":{\"t\":60},\"barmode\":\"relative\",\"height\":300},                        {\"responsive\": true}                    ).then(function(){\n",
              "                            \n",
              "var gd = document.getElementById('e04fbbb7-1286-48bb-93ae-c04daa858930');\n",
              "var x = new MutationObserver(function (mutations, observer) {{\n",
              "        var display = window.getComputedStyle(gd).display;\n",
              "        if (!display || display === 'none') {{\n",
              "            console.log([gd, 'removed!']);\n",
              "            Plotly.purge(gd);\n",
              "            observer.disconnect();\n",
              "        }}\n",
              "}});\n",
              "\n",
              "// Listen for the removal of the full notebook cells\n",
              "var notebookContainer = gd.closest('#notebook-container');\n",
              "if (notebookContainer) {{\n",
              "    x.observe(notebookContainer, {childList: true});\n",
              "}}\n",
              "\n",
              "// Listen for the clearing of the current output cell\n",
              "var outputEl = gd.closest('.output');\n",
              "if (outputEl) {{\n",
              "    x.observe(outputEl, {childList: true});\n",
              "}}\n",
              "\n",
              "                        })                };                            </script>        </div>\n",
              "</body>\n",
              "</html>"
            ]
          },
          "metadata": {}
        }
      ]
    },
    {
      "cell_type": "markdown",
      "source": [
        "CHECK UNIQUE VALUES OF ALL UNITIGS"
      ],
      "metadata": {
        "id": "-bjZuskCYFp3"
      }
    },
    {
      "cell_type": "code",
      "source": [
        "column_values = case.X[case.target_name].values.ravel()\n",
        "print(pd.unique(column_values))"
      ],
      "metadata": {
        "id": "TB3oLV6VhGPu",
        "colab": {
          "base_uri": "https://localhost:8080/"
        },
        "outputId": "d38c1607-89d2-43ad-88dc-041df2cbea69"
      },
      "execution_count": null,
      "outputs": [
        {
          "output_type": "stream",
          "name": "stdout",
          "text": [
            "[0. 1.]\n"
          ]
        }
      ]
    },
    {
      "cell_type": "code",
      "source": [
        "case_unitigs = case.X.columns.tolist()\n",
        "\n",
        "ii=-1\n",
        "for i in case_unitigs:\n",
        "    if(',' in i):\n",
        "        ii+=1;print(f'{ii} | {i}')"
      ],
      "metadata": {
        "id": "kr3tGY5VhJK5",
        "colab": {
          "base_uri": "https://localhost:8080/"
        },
        "outputId": "404d5b7c-3209-456d-d743-88f32ef44b1a"
      },
      "execution_count": null,
      "outputs": [
        {
          "output_type": "stream",
          "name": "stdout",
          "text": [
            "0 | TTCAACTCTTCATAAGCCAAAGTCTGAATCCTCTGATC,AACAGCTCCTTAACCTGCGTGCGGTACAGGCGTTCGGCGCAGGC\n",
            "1 | CTGTTTGTCTTTTTGGCGGGCGGTATGCTGA,CTGCATCCGGGGACATCCGTCGTAATCACCGCCCTGC\n",
            "2 | CGCACGACGGCGTTTTGCTGCCGCTCAGCTTTGAGAAGCAGG,AAGGTTCGATCAGGAAGCCGTTGACCTTGTCGGC\n",
            "3 | AAAACATCGGGGCGGTCATACCCGAATTGCGCCCCAAAGAA,TTCTCGACTGGGCAATTTTCCAGTGTCAATCCTTTGGTCTTGGTTTCCAACAGGTCTAGG\n",
            "4 | GATAAGGGCAAACATCTGCGCGGCTTTGCGTCCGGAATAATAATCGCGC,CATGAAGCCGTTTACCATTGCCAAAGCATTGGATTC\n",
            "5 | GCCGGTCAGCTTTGAAAAACAAGCGGTTGCGCCTAAAGGCAAGCGCGTCATCAAAGCCTCT,AATAGAGTCTGAGTTTGTTTATGTTCGGCACGGCGTTC\n",
            "6 | CAATACGCCCGCCTACGATCCCAACAGACCCGGC,GAGCGCGCCGACGGAGTCCCTGTTTGCCGTACCTAAAGAGATGAAGGAAATGCCGTCTGCC,CTCGATATTTTGAAGGCGTAAACAAGGTGGTCGGCTTTT,CAATATTGTGGACAGTTTGGATTCTCCGCGCAATAAAGCCCCGCAAAACG,ATTGGATGCGGGCAAAACCGATTTGAACGAACGGCTGAATACGCAGCCT,GCGGTCATACCCGAATTGCGCCCCAAAGAAACCAGC\n",
            "7 | ACTCCATGAAGAACTCAGGGAAGAACACGCCCGCCGCCCTGTCGGAA,TGCCGAACATAAACAAACTCAGACTCTATTCGATAC\n",
            "8 | CTACGATCCCAACAGACCCGGCCGGGCAGACAGCGA,AATGCCGTCTGCCGCCCAATTGGAACGCCTGTCCGAGCTT,GGCGTAACCGCGCCGTAACCGACATGATCGAACC,CAGGCTCAATTGCAGGCCGTAACCGAAAGACAT,GATTTGAACGAACGGCTGAATACGCAGCCTTATAAAATCGGAC,ACAAAAGTATAGCGGATTAACAAAAATCAGGAC\n",
            "9 | GCCTGCGCGGGGGAATACCCCTCCAAACCCTCGCCC,TTGAATATGCGTTTGCCTTGCGGCGCAACCGCCTG\n",
            "10 | TGCAATTGGCGCGTGCCTATACTGTCTTGACCCATGACGG,CCATCCCTTTGCCTTTGTGCATATGGAAGGCAC,ATCTTTGGCAATCGCATAACTTGCATTCCCCATCAG\n",
            "11 | TCCCAACAGACCCGGCCGGGCAGACAGCGAACAG,GACGGTTTCTTTATTTGATTTGAACGGAAAAACCAT,CGTCAAAGACGCCAACGACGCCGGCACCAAAATCGACAC,CCATCAAAACCGCCATCAGTTTTCCGCTCATCGGA,CCAAGCCACGTCGGCATTCGGTTTCGAGCCGATGTCCA,TTCAGGCTGCCGCCCATAATTTTTTTGAAGGGC\n"
          ]
        }
      ]
    },
    {
      "cell_type": "markdown",
      "source": [
        "WORKING WITH SEQUENCE"
      ],
      "metadata": {
        "id": "dDM6SOYLYdUp"
      }
    },
    {
      "cell_type": "code",
      "source": [
        "class SQ:\n",
        "    def __init__(self, sequence, seq_type):\n",
        "        self.sequence = sequence\n",
        "        self.seq_type = seq_type\n",
        "\n",
        "lst_SQ = []\n",
        "for unitig in case_unitigs:\n",
        "    lst_SQ.append(SQ(unitig,'DNA'))\n",
        "\n",
        "print(type(lst_SQ[4]))\n",
        "\n",
        "lst_bSQ = []\n",
        "for unitig in case_unitigs:\n",
        "    lst_bSQ.append(Seq(unitig))\n",
        "\n",
        "print(type(lst_bSQ[4]))"
      ],
      "metadata": {
        "id": "bmP8aMtKhMUS",
        "colab": {
          "base_uri": "https://localhost:8080/"
        },
        "outputId": "9208e3cc-9527-4a22-d3f1-151ce385140a"
      },
      "execution_count": null,
      "outputs": [
        {
          "output_type": "stream",
          "name": "stdout",
          "text": [
            "<class '__main__.SQ'>\n",
            "<class 'Bio.Seq.Seq'>\n"
          ]
        }
      ]
    },
    {
      "cell_type": "markdown",
      "source": [
        "CREATING RESISTANCE MODELS"
      ],
      "metadata": {
        "id": "fgMF0RlMYhTO"
      }
    },
    {
      "cell_type": "code",
      "source": [
        "models = []\n",
        "models.append(\n",
        "    ('LDA', LinearDiscriminantAnalysis()))\n",
        "\n",
        "# models use in gscv\n",
        "cv_lda = {'solver':['svd', 'lsqr', 'eigen']}\n",
        "\n",
        "models = []\n",
        "models.append(\n",
        "    ('LDA', LinearDiscriminantAnalysis(),cv_lda))"
      ],
      "metadata": {
        "id": "Yxno9ONKhOwG"
      },
      "execution_count": null,
      "outputs": []
    },
    {
      "cell_type": "markdown",
      "source": [
        "EVALUATE THE MODEL"
      ],
      "metadata": {
        "id": "rCkJmpPMYvNF"
      }
    },
    {
      "cell_type": "code",
      "source": [
        "class class_eval():\n",
        "\n",
        "    def __init__(self,data=None,models=None,nfold = 4,\n",
        "                 gsfold=3, verbose=True,\n",
        "                 shuffle_id=False,random_state=22):\n",
        "\n",
        "        self.shuffle = shuffle_id\n",
        "\n",
        "        if(self.shuffle is False):\n",
        "            self.rs = None\n",
        "        else:\n",
        "            self.rs = random_state # random state\n",
        "\n",
        "        if(data is not None):\n",
        "            X_all = data.X\n",
        "            self.y = data.X[data.target_name].copy()\n",
        "            self.X = data.X.drop([data.target_name],axis=1).copy()\n",
        "        else:\n",
        "            print('input case data')\n",
        "\n",
        "        self.models = models # Tuple /w (name,model)\n",
        "        self.nfold = nfold       # number of cross validation folds\n",
        "        self.gsfold = gsfold    # number of grid search folds in every fold\n",
        "        self.target_name = data.target_name  # target name\n",
        "\n",
        "    ''' Grid-Search Standard Kfold Cross Validation '''\n",
        "    # For each fold, a grid search cv is applied to find best params\n",
        "\n",
        "    def gscv(self,type_id='kfold'):\n",
        "\n",
        "        self.store_models = {} # Store models of Kfolds\n",
        "        self.dic_tr = {}\n",
        "        self.dic_te = {}\n",
        "\n",
        "        for model in self.models:\n",
        "\n",
        "            if(type_id is 'skfold'):\n",
        "                kfold = StratifiedKFold(n_splits=self.nfold,shuffle=self.shuffle,random_state=self.rs)\n",
        "            elif(type_id is 'kfold'):\n",
        "                kfold = KFold(n_splits=self.nfold,shuffle=self.shuffle,random_state=self.rs)\n",
        "\n",
        "            lst_temp = []; lst_temp2 = []; kfold_id = -1\n",
        "            for train_index, test_index in kfold.split(self.X,self.y):\n",
        "\n",
        "                kfold_id+=1;print(f'\\nkfold {kfold_id}')\n",
        "                # split data into train/test sets\n",
        "                X_train = self.X.iloc[train_index]\n",
        "                y_train = self.y[train_index]\n",
        "                X_test = self.X.iloc[test_index]\n",
        "                y_test = self.y[test_index]\n",
        "\n",
        "                # perform grid search to identify best hyper-parameters\n",
        "                gs_clf = GridSearchCV(model[1],param_grid=model[2],\n",
        "                                      cv=self.gsfold, n_jobs=-1,\n",
        "                                      scoring='balanced_accuracy')\n",
        "\n",
        "                # Train using the best model\n",
        "                gs_clf.fit(X_train, y_train)\n",
        "                best_model = gs_clf.best_estimator_ # best cv model\n",
        "                self.store_models[f'GS_{model[0]}_{kfold_id}'] = best_model\n",
        "\n",
        "                # Predict using best model\n",
        "                ym_tr = gs_clf.predict(X_train)\n",
        "                ym_te = gs_clf.predict(X_test)\n",
        "                score_tr = balanced_accuracy_score(y_train,ym_tr)\n",
        "                score_te = balanced_accuracy_score(y_test,ym_te)\n",
        "                lst_temp.append(score_tr); lst_temp2.append(score_te)\n",
        "\n",
        "                print(f'Train Score: {round(score_tr,4)} - Test Score: {round(score_te,4)}')\n",
        "                print('Best hyperparameters for this fold')\n",
        "                print(gs_clf.best_params_)\n",
        "                print(f\"Test : Confusion matrix Fold {kfold_id}\")\n",
        "                print(confusion_matrix(y_test, ym_te))\n",
        "\n",
        "            self.dic_tr[model[0]] = lst_temp\n",
        "            self.dic_te[model[0]] = lst_temp2\n",
        "            test_mean = round(sum(lst_temp2)/len(lst_temp2),4)\n",
        "            print(f'\\n {model[0]} - Test Mean Score: {test_mean}')\n",
        "\n",
        "    '''K-Fold Cross Validation'''\n",
        "    # w/ type_id option; statified used to make sure classes are balanced in folds\n",
        "\n",
        "    def cv(self,type_id='kfold'):\n",
        "\n",
        "        print(f'type_id set to: {type_id}')\n",
        "        self.store_models = {} # Store models of Kfolds\n",
        "        self.dic_tr = {}\n",
        "        self.dic_te = {}\n",
        "\n",
        "        # Cycle though all tuple model settings\n",
        "        for model in self.models:\n",
        "\n",
        "            t0 = time.time()\n",
        "            if(type_id is 'skfold'):\n",
        "                kfold = StratifiedKFold(n_splits=self.nfold,\n",
        "                                        shuffle=self.shuffle,\n",
        "                                        random_state=self.rs)\n",
        "            elif(type_id is 'kfold'):\n",
        "                kfold = KFold(n_splits=self.nfold,\n",
        "                              shuffle=self.shuffle,\n",
        "                              random_state=self.rs)\n",
        "\n",
        "            lst_temp = []; lst_temp2 = []; kfold_id = -1\n",
        "            for train_index, test_index in kfold.split(self.X,self.y):\n",
        "\n",
        "                kfold_id+=1\n",
        "                # split data into train/test sets\n",
        "                X_train = self.X.iloc[train_index]\n",
        "                y_train = self.y[train_index]\n",
        "                X_test = self.X.iloc[test_index]\n",
        "                y_test = self.y[test_index]\n",
        "\n",
        "                # Fit, Stopre & Predict Kfold models\n",
        "                model[1].fit(X_train, y_train)\n",
        "                self.store_models[f'{model[0]}_{kfold_id}'] = model[1]\n",
        "                ym_tr = model[1].predict(X_train)\n",
        "                ym_te = model[1].predict(X_test)\n",
        "\n",
        "                score_tr = balanced_accuracy_score(y_train,ym_tr)\n",
        "                score_te = balanced_accuracy_score(y_test,ym_te)\n",
        "                lst_temp.append(score_tr); lst_temp2.append(score_te)\n",
        "\n",
        "            self.dic_tr[model[0]] = lst_temp\n",
        "            self.dic_te[model[0]] = lst_temp2\n",
        "            test_mean = round(sum(lst_temp2)/len(lst_temp2),4)\n",
        "            print(f'{model[0]} - Test Mean Score: {test_mean} - Total Time: {round(time.time() - t0,4)}')\n",
        "\n",
        "    ''' unitig visual functions only '''\n",
        "\n",
        "    def col_trans(self,sel_id=0):\n",
        "\n",
        "        # unitig to abrev\n",
        "        if(sel_id is 0):\n",
        "            self.X_names = self.X.columns.tolist()\n",
        "            temp_names = self.X_names.copy()\n",
        "\n",
        "            unitigs = self.X_names.copy()\n",
        "            del unitigs[-1]\n",
        "\n",
        "            lst_abr = []\n",
        "            ii=-1\n",
        "            for unitig in range(0,len(unitigs)):\n",
        "                ii+=1;lst_abr.append(f'u{ii}')\n",
        "            lst_abr.append(self.target_name)\n",
        "            self.X.columns = lst_abr\n",
        "            self.dicabr = dict(zip(lst_abr,self.X_names))\n",
        "\n",
        "        # abreb to unitig\n",
        "        elif(sel_id is 1):\n",
        "            self.X.columns = self.X_names\n",
        "\n",
        "    ''' PLOT KFOLD RESULTS '''\n",
        "\n",
        "    def fold_plot(self):\n",
        "\n",
        "        df_tr = pd.DataFrame(self.dic_tr)\n",
        "        df_te = pd.DataFrame(self.dic_te)\n",
        "\n",
        "        # Make Plots\n",
        "        fig,ax = plt.subplots(2,2,figsize=(14,6))\n",
        "        sns.stripplot(data=df_tr, orient='h',linewidth=1,ax=ax[0,0])\n",
        "        sns.heatmap(data=df_tr,annot=True,cbar=False,cmap=\"plasma_r\",vmax=1,vmin=0.5,ax=ax[0,1])\n",
        "        sns.stripplot(data=df_te, orient='h',linewidth=1,ax=ax[1,0])\n",
        "        sns.heatmap(data=df_te,annot=True,cbar=False,cmap=\"plasma_r\",vmax=1,vmin=0.5,fmt='.3g',ax=ax[1,1])\n",
        "        ax[0,0].set_xlim([0.5,1.1]);ax[1,0].set_xlim([0.5,1.1])\n",
        "        ax[0,0].set_title('train kfold')\n",
        "        ax[0,1].set_title('train kfold heatmap')\n",
        "        ax[1,0].set_title('test kfold')\n",
        "        ax[1,1].set_title('test kfold heatmap')\n",
        "        sns.despine(bottom=True, left=True)\n",
        "        plt.tight_layout()"
      ],
      "metadata": {
        "id": "pvLYT969imJc"
      },
      "execution_count": null,
      "outputs": []
    },
    {
      "cell_type": "code",
      "source": [
        "models = []\n",
        "n_est = 10\n",
        "\n",
        "models.append(('LR', LogisticRegression()))\n",
        "models.append(('SVM',SVC()))\n",
        "models.append(('RF', RandomForestClassifier(n_estimators=n_est)))"
      ],
      "metadata": {
        "id": "_SkolN1fiuPM"
      },
      "execution_count": null,
      "outputs": []
    },
    {
      "cell_type": "markdown",
      "source": [
        "RESULT"
      ],
      "metadata": {
        "id": "pdOLMWGkY0mB"
      }
    },
    {
      "cell_type": "code",
      "source": [
        "case = get_unitigs()\n",
        "case.get_case('cip_sr')\n",
        "\n",
        "# Standard KFOLD evaluation\n",
        "eval1 = class_eval(data=case, nfold = 4, models=models)\n",
        "eval1.cv(type_id='kfold')"
      ],
      "metadata": {
        "id": "SNtbixc8i69S",
        "colab": {
          "base_uri": "https://localhost:8080/"
        },
        "outputId": "03b977a7-8543-4731-88e0-ff57ac6db639"
      },
      "execution_count": null,
      "outputs": [
        {
          "output_type": "stream",
          "name": "stdout",
          "text": [
            "Target Antibiotic: cip_sr\n",
            "Metadata df: (3786, 30)\n",
            "Metadata df after na() removal (3088, 30)\n",
            "\n",
            "Combining Metadata & Unitigs\n",
            "Unitig Matrix (+target): (3088, 8874)\n",
            "type_id set to: kfold\n",
            "LR - Test Mean Score: 0.9486 - Total Time: 17.4542\n",
            "SVM - Test Mean Score: 0.9473 - Total Time: 99.7474\n",
            "RF - Test Mean Score: 0.9434 - Total Time: 2.0095\n"
          ]
        }
      ]
    },
    {
      "cell_type": "code",
      "source": [
        "case = get_unitigs()\n",
        "case.get_case('cfx_sr')\n",
        "\n",
        "# Standard KFOLD evaluation\n",
        "eval1 = class_eval(data=case,nfold = 4, models=models)\n",
        "eval1.cv(type_id='kfold')"
      ],
      "metadata": {
        "colab": {
          "base_uri": "https://localhost:8080/"
        },
        "id": "x_mLhkHE1MlG",
        "outputId": "5fd3c706-bc14-4c28-8f01-a4b4d53ccf8c"
      },
      "execution_count": null,
      "outputs": [
        {
          "output_type": "stream",
          "name": "stdout",
          "text": [
            "Target Antibiotic: cfx_sr\n",
            "Metadata df: (3786, 30)\n",
            "Metadata df after na() removal (3401, 30)\n",
            "\n",
            "Combining Metadata & Unitigs\n",
            "Unitig Matrix (+target): (3401, 385)\n",
            "type_id set to: kfold\n",
            "LR - Test Mean Score: 0.625 - Total Time: 0.895\n",
            "SVM - Test Mean Score: 0.625 - Total Time: 0.5197\n",
            "RF - Test Mean Score: 0.625 - Total Time: 0.3219\n"
          ]
        }
      ]
    },
    {
      "cell_type": "code",
      "source": [
        "case = get_unitigs()\n",
        "case.get_case('azm_sr')\n",
        "\n",
        "# Standard KFOLD evaluation\n",
        "eval1 = class_eval(data=case, nfold = 4, models=models)\n",
        "eval1.cv(type_id='kfold')"
      ],
      "metadata": {
        "colab": {
          "base_uri": "https://localhost:8080/"
        },
        "id": "VHe39Zjr1N_L",
        "outputId": "28a8e045-403a-4692-d76b-665e83d24688"
      },
      "execution_count": null,
      "outputs": [
        {
          "output_type": "stream",
          "name": "stdout",
          "text": [
            "Target Antibiotic: azm_sr\n",
            "Metadata df: (3786, 30)\n",
            "Metadata df after na() removal (3478, 30)\n",
            "\n",
            "Combining Metadata & Unitigs\n",
            "Unitig Matrix (+target): (3478, 516)\n",
            "type_id set to: kfold\n",
            "LR - Test Mean Score: 0.8839 - Total Time: 2.0252\n",
            "SVM - Test Mean Score: 0.8854 - Total Time: 5.0135\n",
            "RF - Test Mean Score: 0.7906 - Total Time: 0.3506\n"
          ]
        }
      ]
    }
  ]
}